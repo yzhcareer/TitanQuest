{
 "cells": [
  {
   "cell_type": "code",
   "execution_count": 1,
   "metadata": {},
   "outputs": [],
   "source": [
    "import os\n",
    "import binascii\n",
    "import re\n",
    "import mmap\n",
    "from xml.etree import ElementTree\n",
    "import base64\n",
    "import sys\n",
    "import struct\n",
    "import numpy as np\n",
    "import pandas as pd\n",
    "from itertools import cycle"
   ]
  },
  {
   "cell_type": "code",
   "execution_count": 2,
   "metadata": {},
   "outputs": [],
   "source": [
    "pd.set_option('display.width', 1000)"
   ]
  },
  {
   "cell_type": "code",
   "execution_count": 339,
   "metadata": {},
   "outputs": [
    {
     "name": "stdout",
     "output_type": "stream",
     "text": [
      "bytearray(b'Records\\\\Item\\\\EquipmentArmband\\\\MI_L_GorgonArcher.dbr')\n",
      "bytearray(b\"Records\\\\Item\\\\EquipmentArmband\\\\USm_L_Archmage\\'sRegalia.dbr\")\n"
     ]
    }
   ],
   "source": [
    "for _ in y5.all_armbands:\n",
    "    start = _['data'].find('Records'.encode())\n",
    "    end = _['data'].find('dbr'.encode()) + 3\n",
    "    print(_['data'][start:end])"
   ]
  },
  {
   "cell_type": "code",
   "execution_count": 340,
   "metadata": {},
   "outputs": [],
   "source": [
    "class Char:\n",
    "    \n",
    "    Thorny_maul = b'Records\\\\Item\\\\EquipmentWeapon\\\\Club\\\\U_E_ThornyMaul.dbr'\n",
    "    Corrupter = b'Records\\\\Item\\\\EquipmentWeapon\\\\Club\\\\U_I_Saprosthecorrupter.dbr'\n",
    "    Demeter_sorrow = 'Records\\\\Item\\\\EquipmentWeapon\\\\Club\\\\U_E_Demeter\\'sSorrow.dbr'\n",
    "    Pagos = 'Records\\\\Item\\\\EquipmentWeapon\\\\Sword\\\\U_L_Pagos.dbr'\n",
    "    Pain_weaver = 'Records\\\\Item\\\\EquipmentWeapon\\\\Bow\\\\U_L_Painweaver.dbr'\n",
    "    Zhan_lu = 'Records\\\\Item\\\\EquipmentWeapon\\\\Sword\\\\U_L_Zhanlu.dbr'\n",
    "    Prometheus_gift = 'Records\\\\Item\\\\EquipmentWeapon\\\\Club\\\\U_L_Prometheus\\'Gift.dbr'\n",
    "    Apollo_curve_bow = 'Records\\\\Item\\\\EquipmentWeapon\\\\Bow\\\\U_L_Apollo\\'sCurvedBow.dbr'\n",
    "    Hecate_rod = 'Records\\\\Item\\\\EquipmentWeapon\\\\Staff\\\\U_L_Hecate\\'sRod.dbr'\n",
    "    Hades_scepter = 'Records\\\\Item\\\\EquipmentWeapon\\\\Staff\\\\U_L_Hades\\'Scepter.dbr'\n",
    "    Artemis_silver_bow = 'Records\\\\Item\\\\EquipmentWeapon\\\\Bow\\\\U_L_Artemis\\'SilverBow.dbr'\n",
    "    KuanTi_sorrow = 'Records\\\\Item\\\\EquipmentWeapon\\\\Staff\\\\U_L_KuanTi\\'sSorrow.dbr'\n",
    "    Orion_mace = 'Records\\\\Item\\\\EquipmentWeapon\\\\Club\\\\U_L_Orion\\'sMace.dbr'\n",
    "    Nemesis_recurve = 'Records\\\\Item\\\\EquipmentWeapon\\\\Bow\\\\U_L_Nemesis\\'Recurve.dbr'\n",
    "    Fingerbone_Boreas = 'Records\\\\Item\\\\EquipmentWeapon\\\\Staff\\\\U_L_FingerboneOfBoreas.dbr'\n",
    "    Peleus_spear = 'Records\\\\Item\\\\EquipmentWeapon\\\\Spear\\\\U_L_Peleus\\'AshenSpear .dbr'\n",
    "    Third_paradox = 'Records\\\\Item\\\\EquipmentShield\\\\U_L_Zeno\\'sThirdParadox.dbr'\n",
    "    Ancile = 'Records\\\\Item\\\\EquipmentShield\\\\U_L_Ancile.dbr'\n",
    "    Athena_mirror = 'Records\\\\Item\\\\EquipmentShield\\\\U_L_AthenasMirroredShield.dbr'\n",
    "    Priam_gate = 'Records\\\\Item\\\\EquipmentShield\\\\U_L_Priam\\'sGate.dbr'\n",
    "    Archimedes_cogwheel = 'Records\\\\Item\\\\EquipmentRing\\\\U_L_Archimedes\\'Cogwheel.dbr'\n",
    "    Apllo_will = 'Records\\\\Item\\\\EquipmentRing\\\\U_L_Apollo\\'sWill.dbr'\n",
    "    Band_souls = 'Records\\\\Item\\\\EquipmentRing\\\\U_L_BandofSouls.dbr'\n",
    "    Myrmidon_pendant = 'Records\\\\Item\\\\EquipmentAmulet\\\\U_L_Myrmidon\\'sPendant.dbr'\n",
    "    Immortal_rage = 'Records\\\\Item\\\\EquipmentAmulet\\\\U_L_PendantOfImmortalRage.dbr'\n",
    "    Aphrodites_favor = 'Records\\\\Item\\\\EquipmentAmulet\\\\U_L_AphroditesFavor.dbr'\n",
    "    Alexander_armor = 'Records\\\\Item\\\\EquipmentArmor\\\\US_L_Alexander\\'sPanoply.dbr'\n",
    "    BabeiziGi = 'Records\\\\Item\\\\EquipmentArmor\\\\U_L_BabeiziGi.dbr'\n",
    "    Ward_Tartarus = 'Records\\\\Item\\\\EquipmentArmor\\\\US_L_EternalWardofTartarus.dbr'\n",
    "    Mantle_sajun = 'Records\\\\Item\\\\EquipmentArmor\\\\U_E_MantleofSajun.dbr'\n",
    "    Hermes_helm = 'Records\\\\Item\\\\EquipmentHelm\\\\U_L_Hermes\\'WingedHelm.dbr'\n",
    "    Orpheus_garland = 'Records\\\\Item\\\\EquipmentHelm\\\\Um_E_OrpheusGarland.dbr'\n",
    "    Hesione_veil = 'Records\\\\Item\\\\EquipmentHelm\\\\Um_L_Hesione\\'sGoldenVeil.dbr'\n",
    "    Tracker_helm = 'Records\\\\Item\\\\EquipmentHelm\\\\US_L_Tracker\\'sArmor.dbr'\n",
    "    Alexander_helm = 'Records\\\\Item\\\\EquipmentHelm\\\\US_L_Alexander\\'sPanoply.dbr'\n",
    "    Trackergreaves = 'Records\\\\Item\\\\EquipmentGreaves\\\\US_L_Tracker\\'sArmor.dbr'\n",
    "    Hermes_greaves = 'Records\\\\Item\\\\EquipmentGreaves\\\\U_L_Hermes\\'Talaria.dbr'\n",
    "    Athena_greaves = b'Records\\\\Item\\\\EquipmentGreaves\\\\U_E_Athena\\'sBattleGreaves.dbr'\n",
    "    Archmage_regalia = 'Records\\\\Item\\\\EquipmentGreaves\\\\USm_L_Archmage\\'sRegalia.dbr'\n",
    "    Alexander_greaves = 'Records\\\\Item\\\\EquipmentGreaves\\\\US_L_Alexander\\'sPanoply.dbr'\n",
    "    Archmage_armband = 'Records\\\\Item\\\\EquipmentArmband\\\\USm_L_Archmage\\'sRegalia.dbr'\n",
    "    \n",
    "    ArchimedsMirror = b'Records\\\\Item\\\\Relics\\\\03_Act1_ArchimedesMirror.dbr'\n",
    "    Guile = b'@\\x00\\x00\\x00Records\\\\Item\\\\LootMagicalAffixes\\\\Suffix\\\\Default\\\\Rare_Guile_01.dbr\\t\\x00\\x00\\x00'\n",
    "    Guild_seed = b'\\x80\\x13\\x00\\x00\\x04\\x00\\x00\\x00var1\\x00\\x00\\x00\\x00\\t\\x00\\x00\\x00'\n",
    "    Speed = b'C\\x00\\x00\\x00Records\\\\Item\\\\LootMagicalAffixes\\\\Suffix\\\\Default\\\\Rare_SpeedAll_03.dbr\\t\\x00\\x00\\x00'\n",
    "    Speed_seed = b'\\xf4r\\x00\\x00\\x04\\x00\\x00\\x00var1\\x00\\x00\\x00\\x00\\t\\x00\\x00\\x00'\n",
    "    Speed_seed2 = b';I\\x00\\x00\\x04\\x00\\x00\\x00var1\\x00\\x00\\x00\\x00\\t\\x00\\x00\\x00'\n",
    "    Prism = b'D\\x00\\x00\\x00Records\\\\Item\\\\LootMagicalAffixes\\\\Prefix\\\\Default\\\\Rare_Prismatic_04.dbr\\n\\x00\\x00\\x00'\n",
    "    Prism_seed = b'\\xac^\\x00\\x00\\x04\\x00\\x00\\x00var1\\x00\\x00\\x00\\x00\\t\\x00\\x00\\x00'  \n",
    "    Skill2 = b'C\\x00\\x00\\x00Records\\\\Item\\\\LootMagicalAffixes\\\\Prefix\\\\Default\\\\Rare_SkillAll_02.dbr\\t\\x00\\x00\\x00'\n",
    "\n",
    "    \n",
    "    Code = {30: '\\\"\"',\n",
    "            31: '#',\n",
    "            32: '$',\n",
    "            34: '&',\n",
    "            35: '\\'',\n",
    "            36: '(',\n",
    "            37: ')',\n",
    "            38: '*',\n",
    "            39: '+',\n",
    "            41: '-',\n",
    "            42: '.',\n",
    "            43: '/',\n",
    "            44: '0',\n",
    "            45: '1',\n",
    "            46: '2',\n",
    "            47: '3',\n",
    "            48: '4',\n",
    "            49: '5',\n",
    "            50: '6',\n",
    "            51: '7',\n",
    "            52: '8',\n",
    "            53: '9',\n",
    "            54: ':',\n",
    "            55: ';',\n",
    "            56: '<',\n",
    "            57: '=',\n",
    "            59: '?',\n",
    "            60: '@'}\n",
    "    \n",
    "    Code.update(dict(zip(range(61, 87), 'ABCDEFGHIJKLMNOPQRSTUVWXYZ')))\n",
    "    \n",
    "    Good_seeds = [15, 242, 21547, 24487, 26822, 5557, 11867, 1870, 25954, 13646, 21315, 50, 835, 30234, 5974, 31830]\n",
    "    \n",
    "    def __init__(self, file_name):\n",
    "        self.file_name = file_name\n",
    "        \n",
    "        self.xml = ElementTree.parse(self.file_name)\n",
    "        self.xml_backup = ElementTree.parse(self.file_name)\n",
    "        self.data = bytearray(base64.b64decode(self.xml.getroot()[0][1].text))\n",
    "        self.data_backup = bytearray(base64.b64decode(self.xml.getroot()[0][1].text))\n",
    "        self.unpack()\n",
    "        \n",
    "    @staticmethod\n",
    "    def int2bytes(i, length):\n",
    "        return i.to_bytes(length, byteorder='little')\n",
    "    \n",
    "    @staticmethod\n",
    "    def float2bytes(f):\n",
    "        return bytearray(struct.pack('<f', f))\n",
    "        \n",
    "    @staticmethod\n",
    "    def find_blocks(data, s, by_string=True):\n",
    "        blocks = []\n",
    "        index = 0\n",
    "        if by_string == True:\n",
    "            s = s.encode()\n",
    "        while index < len(data):\n",
    "            f = data[index:].find(s)\n",
    "            if f != -1:\n",
    "                index += f\n",
    "                blocks.append(index)\n",
    "                index += 1\n",
    "                continue             \n",
    "            else:\n",
    "                break\n",
    "        return blocks\n",
    "        \n",
    "    def split_block(self):\n",
    "        blocks = ([{'type': 'start', 'index': i} for i in self.find_blocks(self.data, 'begin_block')] + \n",
    "                  [{'type': 'end', 'index': i} for i in self.find_blocks(self.data, 'end_block')])\n",
    "        return sorted(blocks, key=lambda x:x['index'])\n",
    "    \n",
    "    def unpack(self):\n",
    "        count = 0\n",
    "        self.root = {'id': count,\n",
    "                     'level': 0,\n",
    "                     'parent': None,\n",
    "                     'data': None,\n",
    "                     'children': [],\n",
    "                     'type': 'fill'}\n",
    "        current = self.root\n",
    "        index = 0\n",
    "        level = 0\n",
    "        count += 1\n",
    "        for b in self.split_block():\n",
    "            fill = b['index'] - index \n",
    "            if b['type'] == 'start':\n",
    "                if fill > 0:\n",
    "                    current['children'].append({'id': count,\n",
    "                                                'level': level + 1,\n",
    "                                                'parent': current,\n",
    "                                                'data': self.data[index: b['index']],\n",
    "                                                'children': [],\n",
    "                                                'type': 'fill'})\n",
    "                    count += 1\n",
    "                current['children'].append({'id': count,\n",
    "                                            'level': level + 1,\n",
    "                                            'parent': current,\n",
    "                                            'start': b['index'],\n",
    "                                            'end': None,\n",
    "                                            'children': [],\n",
    "                                            'type': 'block'})\n",
    "                count += 1\n",
    "                level += 1\n",
    "                index = b['index']\n",
    "                current = current['children'][-1]\n",
    "                last_op = 'start'\n",
    "            else:\n",
    "                if last_op == 'end' and fill > 0:\n",
    "                    current['children'].append({'id': count,\n",
    "                                                'level': level + 1,\n",
    "                                                'parent': current,\n",
    "                                                'data': self.data[index: b['index'] + len('end_block')],\n",
    "                                                'children': [],\n",
    "                                                'type': 'fill'})\n",
    "                    count += 1\n",
    "                current['data'] = self.data[current['start']: b['index'] + len('end_block')]\n",
    "                current.pop('start')\n",
    "                current.pop('end')\n",
    "                current = current['parent']\n",
    "                index = b['index'] + len('end_block')\n",
    "                level -= 1\n",
    "                last_op = 'end'             \n",
    "        if index < len(self.data):\n",
    "            current['children'].append({'id': count,\n",
    "                                        'level': level + 1,\n",
    "                                        'parent': current,\n",
    "                                        'data': self.data[index:len(self.data)],\n",
    "                                        'children': [],\n",
    "                                        'type': 'fill'})\n",
    "                \n",
    "    def print_tree(self, root=None, space='  '):\n",
    "        if root is None:\n",
    "            root = self.root\n",
    "        if root['children']:\n",
    "            for c in root['children']:\n",
    "                self.print_tree(root=c, space=space)\n",
    "        else:\n",
    "            print(space * root['level'], root['level'], root['data'])\n",
    "            \n",
    "    def get_segs(self, root=None):\n",
    "        segs = []\n",
    "        def _get_segs(node):\n",
    "            if node['children']:\n",
    "                for c in node['children']:\n",
    "                    _get_segs(c)\n",
    "            else:\n",
    "                segs.append(node)\n",
    "        _get_segs(self.root)\n",
    "        yield from segs\n",
    "                       \n",
    "    def pack(self, write=False):\n",
    "        self.data = b''.join([s['data'] for s in self.get_segs()])\n",
    "        self.xml.getroot()[0][1].text = base64.b64encode(self.data).decode('utf-8')\n",
    "        if write:\n",
    "            self.xml.write(self.file_name) \n",
    "            \n",
    "    def rollback(self):\n",
    "        self.xml_backup.write(self.file_name)\n",
    "    \n",
    "    def search(self, s, by_string=True):\n",
    "        find = list()\n",
    "        for seg in self.get_segs():\n",
    "            find.extend([(seg, i) for i in self.find_blocks(seg['data'], s, by_string=by_string)])\n",
    "        return find\n",
    "    \n",
    "    def set_int_value(self, s, value, length):\n",
    "        find = self.search(s)\n",
    "        if find:\n",
    "            start = find[0][1] + len(s)\n",
    "            find[0][0]['data'][start: start+length] = self.int2bytes(value, length)\n",
    "        else:\n",
    "            print(f'{s} not found.')\n",
    "            \n",
    "    def set_temp_values(self, values=[2, 20000, 20000, 20000, 10000000, 20000]):\n",
    "        find = self.search('temp')\n",
    "        if find:\n",
    "            start = find[0][1] + 4\n",
    "            find[0][0]['data'][start: start+1] = self.int2bytes(values[0], 1)\n",
    "            for (seg, index), v in zip(find[1:], values[1:]):\n",
    "                start = index + 4\n",
    "                seg['data'][start: start+4] = self.float2bytes(v)\n",
    "        else:\n",
    "            print('temp not found')  \n",
    "            \n",
    "    @property\n",
    "    def all_weapons(self):\n",
    "        find = self.search('Records\\\\Item\\\\EquipmentWeapon')\n",
    "        return list(zip(*find))[0]\n",
    "    \n",
    "    @property\n",
    "    def all_shields(self):\n",
    "        find = self.search('Records\\\\Item\\\\EquipmentShield')\n",
    "        return list(zip(*find))[0]\n",
    " \n",
    "    @property\n",
    "    def all_rings(self):\n",
    "        find = self.search('Records\\\\Item\\\\EquipmentRing')\n",
    "        return list(zip(*find))[0]\n",
    "    \n",
    "    @property\n",
    "    def all_amulets(self):\n",
    "        find = self.search('Records\\\\Item\\\\EquipmentAmulet')\n",
    "        return list(zip(*find))[0]\n",
    "\n",
    "    @property\n",
    "    def all_armors(self):\n",
    "        find = self.search('Records\\\\Item\\\\EquipmentArmor')\n",
    "        return list(zip(*find))[0]\n",
    "\n",
    "    @property\n",
    "    def all_helms(self):\n",
    "        find = self.search('Records\\\\Item\\\\EquipmentHelm')\n",
    "        return list(zip(*find))[0]\n",
    "    \n",
    "    @property\n",
    "    def all_greaves(self):\n",
    "        find = self.search('Records\\\\Item\\\\EquipmentGreaves')\n",
    "        return list(zip(*find))[0]\n",
    "    \n",
    "    @property\n",
    "    def all_armbands(self):\n",
    "        find = self.search('Records\\\\Item\\\\EquipmentArmband')\n",
    "        return list(zip(*find))[0]\n",
    "    \n",
    "    def set_seg_value(self, node, start, end, value_array):\n",
    "        s = node['data'].find(start.encode())\n",
    "        e = node['data'].find(end.encode())\n",
    "        if s >= 0 and e >=0:\n",
    "            node['data'][s:e] = value_array\n",
    "        else:\n",
    "            print('string not found')\n",
    "            \n",
    "    def assign_prefix(node, value):\n",
    "        self.set_seg_value(node, 'prefixName', 'suffixName', value)\n",
    "        \n",
    "    def assign_suffix(node, value):\n",
    "        self.set_seg_value(node, 'suffixName', 'relicName', value)\n",
    "    \n",
    "    def assign_relic(node, value):\n",
    "        self.set_seg_value(node, 'relicName', 'relicBonus', value)\n",
    "    \n",
    "    def assign_relicBonus(node, value):\n",
    "        self.set_seg_value(node, 'relicBonus', 'seed', value)\n",
    "        \n",
    "    def assign_seed(node, value):\n",
    "        self.set_seg_value(node, 'seed', 'end_block', value)\n",
    "        \n",
    "    def replace_record(record1, record2):\n",
    "        find = self.search(record1, by_string=False)\n",
    "        code = self.Code.get(len(record2) - 4, None)\n",
    "        if code is None:\n",
    "            return\n",
    "        record2 = code.encode() + b'\\x00\\x00\\x00' + record2\n",
    "        length = len(record1)\n",
    "        for seg, index in find:\n",
    "            seg['data'][index - 4 : index + length] = record2    \n",
    "            \n",
    "    def optimize(self):\n",
    "        self.set_int_value('modifierPoints', 10000, 2)\n",
    "        self.set_int_value('skillPoints', 1000, 2)\n",
    "        self.set_int_value('money', 1000000000, 4)\n",
    "        self.set_int_value('experiencePoints', 1000000000, 4)\n",
    "        self.set_int_value('masteriesAllowed', 2, 1)\n",
    "        self.set_temp_values()\n",
    "        return self"
   ]
  },
  {
   "cell_type": "code",
   "execution_count": 317,
   "metadata": {},
   "outputs": [],
   "source": [
    "#y1 = Char(r'/Users/CIDER/工作/Python程序/游戏/TitanQuest BackupEdit/My Games/Titan Quest/SaveData/Main/_save1/World01.map/dict')\n",
    "y2 = Char(r'/Users/CIDER/工作/Python程序/游戏/TitanQuest Prog/My Games/Titan Quest/SaveData/Main/_save2/World01.map/dict')\n",
    "y5 = Char(r'/Users/CIDER/工作/Python程序/游戏/TitanQuest Prog/My Games/Titan Quest/SaveData/Main/_save5/World01.map/dict')"
   ]
  },
  {
   "cell_type": "code",
   "execution_count": 334,
   "metadata": {},
   "outputs": [
    {
     "name": "stdout",
     "output_type": "stream",
     "text": [
      "bytearray(b\"Records\\\\Item\\\\EquipmentRing\\\\U_L_Archimedes\\'Cogwheel.dbr\")\n",
      "bytearray(b\"Records\\\\Item\\\\EquipmentRing\\\\U_L_Apollo\\'sWill.dbr\")\n",
      "bytearray(b'Records\\\\Item\\\\EquipmentRing\\\\U_L_BandofSouls.dbr')\n",
      "bytearray(b'Records\\\\Item\\\\EquipmentRing\\\\U_L_BandofSouls.dbr')\n",
      "bytearray(b\"Records\\\\Item\\\\EquipmentRing\\\\U_L_Apollo\\'sWill.dbr\")\n",
      "bytearray(b'Records\\\\Item\\\\EquipmentRing\\\\U_L_SealofHephaestus.dbr')\n",
      "bytearray(b'Records\\\\Item\\\\EquipmentRing\\\\U_L_EyeofHorus.dbr')\n",
      "bytearray(b\"Records\\\\Item\\\\EquipmentRing\\\\U_L_Archimedes\\'Cogwheel.dbr\")\n",
      "bytearray(b'Records\\\\Item\\\\EquipmentRing\\\\U_L_BandofSouls.dbr')\n",
      "bytearray(b\"Records\\\\Item\\\\EquipmentRing\\\\U_L_Apollo\\'sWill.dbr\")\n"
     ]
    }
   ],
   "source": []
  },
  {
   "cell_type": "code",
   "execution_count": null,
   "metadata": {},
   "outputs": [],
   "source": [
    "'headerVersion', 'ID', 'spacer', 'skill', 'spacer', \n",
    "'skill panel', 'spacer', 'stats', 'spacer', 'properties', \n",
    "'spacer', 'history', 'spacer2', ('stored type', 'inventory'),('end', 'spacer'), \n",
    "(, 'short block'), (, 'spacer'), (, 'equiped'),  (,'spacer'), (, 'stored type'), (, 'end')"
   ]
  },
  {
   "cell_type": "code",
   "execution_count": 210,
   "metadata": {},
   "outputs": [],
   "source": [
    "for i in range(1, 7):\n",
    "    y = Char(f'/Users/CIDER/工作/Python程序/游戏/TitanQuest BackupEdit/My Games/Titan Quest/SaveData/Main/_save{i}/World01.map/dict')\n",
    "    y.optimize().pack(write=True)"
   ]
  },
  {
   "cell_type": "code",
   "execution_count": 192,
   "metadata": {},
   "outputs": [
    {
     "data": {
      "text/plain": [
       "bytearray(b\"\\r\\x00\\x00\\x00headerVersion\\x01\\x00\\x00\\x00\\x14\\x00\\x00\\x00playerCharacterClass\\t\\x00\\x00\\x00Sorceress\\x08\\x00\\x00\\x00uniqueId#\\xcf\\xbb\\x84\\xde]B\\xe3\\x10\\x1e\\xaccj\\xb8\\xffU\\n\\x00\\x00\\x00streamData\\x14\\x00\\x00\\x00\\'\\xee\\x93oMu]\\xc3 $\\xe2\\xdbim\\xd8;\\xfb\\xa5}<\\r\\x00\\x00\\x00playerVersion\\x05\\x00\\x00\\x00\\x0b\\x00\\x00\\x00\")"
      ]
     },
     "execution_count": 192,
     "metadata": {},
     "output_type": "execute_result"
    }
   ],
   "source": [
    "y2.root['children'][0]['data']"
   ]
  },
  {
   "cell_type": "code",
   "execution_count": 158,
   "metadata": {},
   "outputs": [
    {
     "data": {
      "text/plain": [
       "21"
      ]
     },
     "execution_count": 158,
     "metadata": {},
     "output_type": "execute_result"
    }
   ],
   "source": [
    "bytearray(b'\\xde\\xc0\\xad\\xde\\x0b\\x00\\x00\\x00')\n",
    "bytearray(b'\\xde\\xc0\\xad\\xde\\x0b\\x00\\x00\\x00')\n",
    "bytearray(b'\\xde\\xc0\\xad\\xde\\x0b\\x00\\x00\\x00')\n",
    "bytearray(b'\\xde\\xc0\\xad\\xde\\x0b\\x00\\x00\\x00')\n",
    "bytearray(b'\\xde\\xc0\\xad\\xde\\x0b\\x00\\x00\\x00')\n",
    "bytearray(b'\\xde\\xc0\\xad\\xde\\x12\\x00\\x00\\x00controllerStreamed\\x00\\x00\\x00\\x00\\x0b\\x00\\x00\\x00')\n",
    "bytearray(b'begin_block\\xce\\xfa\\x1d\\xb0\\t\\x00\\x00\\x00end_block')\n",
    "bytearray(b'\\xde\\xc0\\xad\\xde\\x0b\\x00\\x00\\x00')"
   ]
  },
  {
   "cell_type": "code",
   "execution_count": 104,
   "metadata": {},
   "outputs": [
    {
     "data": {
      "text/plain": [
       "bytearray(b'\\xde\\xc0\\xad\\xde\\x0b\\x00\\x00\\x00')"
      ]
     },
     "execution_count": 104,
     "metadata": {},
     "output_type": "execute_result"
    }
   ],
   "source": [
    "y2.root['children'][-5]['data']"
   ]
  },
  {
   "cell_type": "code",
   "execution_count": 96,
   "metadata": {},
   "outputs": [
    {
     "data": {
      "text/plain": [
       "96"
      ]
     },
     "execution_count": 96,
     "metadata": {},
     "output_type": "execute_result"
    }
   ],
   "source": [
    "len(y2.find_blocks(y2.data, 'end_block'))"
   ]
  },
  {
   "cell_type": "code",
   "execution_count": 32,
   "metadata": {},
   "outputs": [
    {
     "data": {
      "text/plain": [
       "100550"
      ]
     },
     "execution_count": 32,
     "metadata": {},
     "output_type": "execute_result"
    }
   ],
   "source": [
    "len(y2.data_backup)"
   ]
  },
  {
   "cell_type": "code",
   "execution_count": 56,
   "metadata": {},
   "outputs": [
    {
     "data": {
      "text/plain": [
       "21"
      ]
     },
     "execution_count": 56,
     "metadata": {},
     "output_type": "execute_result"
    }
   ],
   "source": [
    "len(y2.root['children'])"
   ]
  },
  {
   "cell_type": "code",
   "execution_count": null,
   "metadata": {},
   "outputs": [],
   "source": []
  }
 ],
 "metadata": {
  "kernelspec": {
   "display_name": "Python 3",
   "language": "python",
   "name": "python3"
  },
  "language_info": {
   "codemirror_mode": {
    "name": "ipython",
    "version": 3
   },
   "file_extension": ".py",
   "mimetype": "text/x-python",
   "name": "python",
   "nbconvert_exporter": "python",
   "pygments_lexer": "ipython3",
   "version": "3.8.3"
  }
 },
 "nbformat": 4,
 "nbformat_minor": 4
}
